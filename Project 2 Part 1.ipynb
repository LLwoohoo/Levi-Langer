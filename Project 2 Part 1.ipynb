{
 "cells": [
  {
   "cell_type": "markdown",
   "metadata": {},
   "source": [
    "## Multivariate Newton Method, Project 2 Part 1"
   ]
  },
  {
   "cell_type": "code",
   "execution_count": 83,
   "metadata": {},
   "outputs": [],
   "source": [
    "import numpy as np"
   ]
  },
  {
   "cell_type": "code",
   "execution_count": 84,
   "metadata": {},
   "outputs": [],
   "source": [
    "# Solve nonlinear system F=0 by Newton's method.\n",
    "# Input: function F and Jacobian DF both must be functions of x, initial guess x0, maximal number of steps N, error eps \n",
    "# Output: solution x and number of steps\n",
    "#\n",
    "# At input, x holds the guess x0 \n",
    "# The iteration continues until ||F|| < eps or up to N steps\n",
    "def Newton_system(F, DF, x0, N=10000, eps=1e-7):\n",
    "    x=x0\n",
    "    #print(x)\n",
    "    F_value = F(x)\n",
    "    F_norm = np.linalg.norm(F_value, ord=2)  # l2 norm of vector\n",
    "    steps = 0\n",
    "    while abs(F_norm) > eps and steps < N:\n",
    "        s = np.linalg.solve(DF(x), F_value)\n",
    "        x = x - s\n",
    "        F_value = F(x)\n",
    "        F_norm = np.linalg.norm(F_value, ord=2)\n",
    "        steps = steps + 1\n",
    "        #print(x)\n",
    "    # Either a solution is found, or too many iterations\n",
    "    if abs(F_norm) < eps:\n",
    "        steps = steps-1\n",
    "        print('The receiver is located at approximately (',x[0],',',x[1],',',x[2],').')\n",
    "        print('The time drift is approximately',x[3],'seconds.')\n",
    "        print('Answer',x,'reached in',steps,'steps.')\n",
    "        print('Our answer is a little off, since F(v) does not equal zero, but rather',F(x),'.')\n",
    "    else:\n",
    "        print('The sequence diverges.')"
   ]
  },
  {
   "cell_type": "code",
   "execution_count": 85,
   "metadata": {},
   "outputs": [
    {
     "name": "stdout",
     "output_type": "stream",
     "text": [
      "The receiver is located at approximately ( -41.77270957081683 , -16.789194106511744 , 6370.059559223359 ).\n",
      "The time drift is approximately -0.0032015658295940566 seconds.\n",
      "Answer [-4.17727096e+01 -1.67891941e+01  6.37005956e+03 -3.20156583e-03] reached in 5 steps.\n",
      "Our answer is a little off, since F(v) does not equal zero, but rather [-5.96046448e-08 -5.96046448e-08  0.00000000e+00  0.00000000e+00] .\n"
     ]
    }
   ],
   "source": [
    "c = 299792.458\n",
    "v0 = np.array([0,0,6370,0])\n",
    "def F(v):\n",
    "    return np.array([\n",
    "        (v[0]-15600)**2 + (v[1]-7540)**2 + (v[2]-20140)**2 - c**2*(v[3]-.07074)**2,\n",
    "        (v[0]-18760)**2 + (v[1]-2750)**2 + (v[2]-18610)**2 - c**2*(v[3]-.07220)**2,\n",
    "        (v[0]-17610)**2 + (v[1]-14630)**2 + (v[2]-13480)**2 - c**2*(v[3]-.07690)**2,\n",
    "        (v[0]-19170)**2 + (v[1]-610)**2 + (v[2]-18390)**2 - c**2*(v[3]-.07242)**2\n",
    "    ])\n",
    "\n",
    "def DF(v):\n",
    "    return np.array([\n",
    "        [(v[0]-15600)*2,(v[1]-7540)*2,(v[2]-20140)*2,-c**2*(v[3]-.07074)*2],\n",
    "        [(v[0]-18760)*2,(v[1]-2750)*2,(v[2]-18610)*2,-c**2*(v[3]-.07220)*2],\n",
    "        [(v[0]-17610)*2,(v[1]-14630)*2,(v[2]-13480)*2,-c**2*(v[3]-.07690)*2],\n",
    "        [(v[0]-19170)*2,(v[1]-610)*2,(v[2]-18390)*2,-c**2*(v[3]-.07242)*2]\n",
    "    ])\n",
    "\n",
    "Newton_system(F,DF,v0)"
   ]
  }
 ],
 "metadata": {
  "kernelspec": {
   "display_name": "Python 3",
   "language": "python",
   "name": "python3"
  },
  "language_info": {
   "codemirror_mode": {
    "name": "ipython",
    "version": 3
   },
   "file_extension": ".py",
   "mimetype": "text/x-python",
   "name": "python",
   "nbconvert_exporter": "python",
   "pygments_lexer": "ipython3",
   "version": "3.12.1"
  }
 },
 "nbformat": 4,
 "nbformat_minor": 2
}
