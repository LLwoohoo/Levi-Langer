{
 "cells": [
  {
   "cell_type": "code",
   "execution_count": 1358,
   "metadata": {},
   "outputs": [
    {
     "name": "stdout",
     "output_type": "stream",
     "text": [
      "[[ -2543.84649944  -6502.96301221  25636.01406321]\n",
      " [-20053.05305117  -2986.48605917  17173.26015483]\n",
      " [ -1328.37150108  -1808.44786388 -26475.07970675]\n",
      " [-15226.78904707  -9667.38712042  19510.29014597]] \n",
      " [20492.41276265 22972.90720887 32921.63901546 22315.48125272] \n",
      " [0.06845533 0.07672937 0.10991477 0.07453643]\n"
     ]
    }
   ],
   "source": [
    "import numpy as np\n",
    "import math\n",
    "import random\n",
    "\n",
    "p = 26570\n",
    "x = 0\n",
    "y = 0\n",
    "z = 6370\n",
    "d = .0001\n",
    "q = 299792.458\n",
    "eps = 1e-8\n",
    "epsD = eps*q\n",
    "\n",
    "theta = np.array([math.pi/2*random.random(),math.pi/2*random.random(),math.pi/2*random.random(),math.pi/2*random.random()])\n",
    "phi = np.array([math.pi*2*random.random(),math.pi*2*random.random(),math.pi*2*random.random(),math.pi*2*random.random()])\n",
    "\n",
    "def A(x):\n",
    "    return p*np.cos(phi[x])*np.cos(theta[x])\n",
    "def B(x):\n",
    "    return p*np.cos(phi[x])*np.sin(theta[x])\n",
    "def C(x):\n",
    "    return p*np.sin(phi[x])\n",
    "a = np.array([A(0),A(1),A(2),A(3)])\n",
    "b = np.array([B(0),B(1),B(2),B(3)])\n",
    "c = np.array([C(0),C(1),C(2),C(3)])\n",
    "\n",
    "satellite0 = np.array([a[0],b[0],c[0]])\n",
    "satellite1 = np.array([a[1],b[1],c[1]])\n",
    "satellite2 = np.array([a[2],b[2],c[2]])\n",
    "satellite3 = np.array([a[3],b[3],c[3]])\n",
    "satellitePositions = np.array([satellite0,satellite1,satellite2,satellite3])\n",
    "\n",
    "def R(x):\n",
    "    return math.sqrt(a[x]**2+b[x]**2+(c[x]-6370)**2)\n",
    "satelliteRanges = np.array([R(0),R(1),R(2),R(3)])\n",
    "r = satelliteRanges\n",
    "\n",
    "def T(x):\n",
    "    return d + r[x]/q\n",
    "t = np.array([T(0),T(1),T(2),T(3)])\n",
    "\n",
    "print(satellitePositions,'\\n',r,'\\n',t)"
   ]
  },
  {
   "cell_type": "code",
   "execution_count": 1359,
   "metadata": {},
   "outputs": [],
   "source": [
    "def Newton_system(F, DF, x0, t, N=1000, e=1e-7):\n",
    "    x=x0\n",
    "    #print(x)\n",
    "    F_value = F(x,satellitePositions,t)\n",
    "    '''print(F_value)\n",
    "    print(DF(x,satellitePositions,t))\n",
    "    print(satellitePositions,\"\\n\",t)/'''\n",
    "    F_norm = np.linalg.norm(F_value, ord=2)  # l2 norm of vector\n",
    "    steps = 0\n",
    "    while abs(F_norm) > e and steps < N:\n",
    "        s = np.linalg.solve(DF(x,satellitePositions,t), F_value)\n",
    "        x = x - s\n",
    "        F_value = F(x,satellitePositions,t)\n",
    "        F_norm = np.linalg.norm(F_value, ord=2)\n",
    "        steps = steps + 1\n",
    "        #print(x)\n",
    "    # Either a solution is found, or too many iterations\n",
    "    if abs(F_norm) < e:\n",
    "        steps = steps-1\n",
    "        print('The receiver is located at approximately (',x[0],',',x[1],',',x[2],').')\n",
    "        print('The time drift is approximately',x[3],'seconds.')\n",
    "        print('Answer',x,'reached in',steps,'steps.')\n",
    "        print('Our answer is a little off, since F(v) does not equal zero, but rather',F(x,satellitePositions,t),'.')\n",
    "    else:\n",
    "        print('The sequence diverges.')"
   ]
  },
  {
   "cell_type": "code",
   "execution_count": 1360,
   "metadata": {},
   "outputs": [
    {
     "name": "stdout",
     "output_type": "stream",
     "text": [
      "The receiver is located at approximately ( 5.010604066998452e-13 , -9.158852767558239e-12 , 6369.999999999998 ).\n",
      "The time drift is approximately 0.00010000000000000509 seconds.\n",
      "Answer [ 5.01060407e-13 -9.15885277e-12  6.37000000e+03  1.00000000e-04] reached in 12 steps.\n",
      "Our answer is a little off, since F(v) does not equal zero, but rather [-5.96046448e-08  0.00000000e+00  0.00000000e+00  5.96046448e-08] .\n"
     ]
    }
   ],
   "source": [
    "v0 = np.array([0,0,6370,0])\n",
    "def F(v,sp,t):\n",
    "    return np.array([\n",
    "        (v[0]-sp[0][0])**2 + (v[1]-sp[0][1])**2 + (v[2]-sp[0][2])**2 - q**2*(v[3]-t[0])**2,\n",
    "        (v[0]-sp[1][0])**2 + (v[1]-sp[1][1])**2 + (v[2]-sp[1][2])**2 - q**2*(v[3]-t[1])**2,\n",
    "        (v[0]-sp[2][0])**2 + (v[1]-sp[2][1])**2 + (v[2]-sp[2][2])**2 - q**2*(v[3]-t[2])**2,\n",
    "        (v[0]-sp[3][0])**2 + (v[1]-sp[3][1])**2 + (v[2]-sp[3][2])**2 - q**2*(v[3]-t[3])**2\n",
    "    ])\n",
    "\n",
    "def DF(v,sp,t):\n",
    "    return np.array([\n",
    "        [(v[0]-sp[0][0])*2,(v[1]-sp[0][1])*2,(v[2]-sp[0][2])*2,-q**2*(v[3]-t[0])*2],\n",
    "        [(v[0]-sp[1][0])*2,(v[1]-sp[1][1])*2,(v[2]-sp[1][2])*2,-q**2*(v[3]-t[1])*2],\n",
    "        [(v[0]-sp[2][0])*2,(v[1]-sp[2][1])*2,(v[2]-sp[2][2])*2,-q**2*(v[3]-t[2])*2],\n",
    "        [(v[0]-sp[3][0])*2,(v[1]-sp[3][1])*2,(v[2]-sp[3][2])*2,-q**2*(v[3]-t[3])*2]\n",
    "    ])\n",
    "\n",
    "Newton_system(F,DF,v0,t)"
   ]
  },
  {
   "cell_type": "code",
   "execution_count": 1361,
   "metadata": {},
   "outputs": [],
   "source": [
    "def Newton_return(F, DF, x0, t, N=100, e=1e-7):\n",
    "    x=x0\n",
    "    F_value = F(x,satellitePositions,t)\n",
    "    F_norm = np.linalg.norm(F_value, ord=2)  # l2 norm of vector\n",
    "    steps = 0\n",
    "    while abs(F_norm) > e and steps < N:\n",
    "        s = np.linalg.solve(DF(x,satellitePositions,t), F_value)\n",
    "        x = x - s\n",
    "        F_value = F(x,satellitePositions,t)\n",
    "        F_norm = np.linalg.norm(F_value, ord=2)\n",
    "        steps = steps+1\n",
    "    if abs(F_norm) < e:\n",
    "        return x\n",
    "    else:\n",
    "        return np.array([-1e+12])"
   ]
  },
  {
   "cell_type": "code",
   "execution_count": 1362,
   "metadata": {},
   "outputs": [
    {
     "name": "stdout",
     "output_type": "stream",
     "text": [
      "The Error Magnification Number is  -1\n"
     ]
    }
   ],
   "source": [
    "def EMNFinder(deltaT = [(-1)**random.randint(1,2)*eps,(-1)**random.randint(1,2)*eps,(-1)**random.randint(1,2)*eps,(-1)**random.randint(1,2)*eps]):\n",
    "    tBar = t + deltaT \n",
    "    if Newton_return(F,DF,v0,tBar)[0] < -1e+11:\n",
    "        return -1\n",
    "    else:\n",
    "        xBar = Newton_return(F,DF,v0,tBar)[0]\n",
    "        yBar = Newton_return(F,DF,v0,tBar)[1]\n",
    "        zBar = Newton_return(F,DF,v0,tBar)[2]\n",
    "        dBar = Newton_return(F,DF,v0,tBar)[3]\n",
    "        deltaX = abs(x-xBar)\n",
    "        deltaY = abs(y-yBar)\n",
    "        deltaZ = abs(z-zBar)\n",
    "        deltaD = abs(d-dBar)\n",
    "        EMN = max(deltaX,deltaY,deltaZ)/epsD\n",
    "        return EMN\n",
    "\n",
    "print('The Error Magnification Number is ',EMNFinder())"
   ]
  },
  {
   "cell_type": "code",
   "execution_count": 1368,
   "metadata": {},
   "outputs": [
    {
     "name": "stdout",
     "output_type": "stream",
     "text": [
      "Max EMN: 7.822250078837552\n",
      "Max position error: 0.023450515782254034 meters\n",
      "Inputs theta and phi:\n",
      " [68.63542337  8.47075648 53.70134837 32.41119247] \n",
      " [105.2367552  139.73376347 265.15547987 132.75209324]\n"
     ]
    }
   ],
   "source": [
    "#max of 50 trials\n",
    "maxEMN = max(\n",
    "    EMNFinder([eps,eps,eps,eps]),\n",
    "    EMNFinder([eps,eps,eps,-eps]),EMNFinder([eps,eps,-eps,eps]),EMNFinder([eps,-eps,eps,eps]),EMNFinder([-eps,eps,eps,eps]),\n",
    "    EMNFinder([eps,eps,-eps,-eps]),EMNFinder([eps,-eps,eps,-eps]),EMNFinder([-eps,eps,eps,-eps]),EMNFinder([eps,-eps,-eps,eps]),EMNFinder([-eps,eps,-eps,eps]),EMNFinder([-eps,-eps,eps,eps]),\n",
    "    EMNFinder([eps,-eps,-eps,-eps]),EMNFinder([-eps,eps,-eps,-eps]),EMNFinder([-eps,-eps,eps,-eps]),EMNFinder([-eps,-eps,-eps,eps]),\n",
    "    EMNFinder([-eps,-eps,-eps,-eps])\n",
    "    )\n",
    "print('Max EMN:',maxEMN)\n",
    "print('Max position error:',maxEMN*epsD,'meters')\n",
    "\n",
    "print('Inputs theta and phi:\\n',theta*180/math.pi,'\\n',phi*180/math.pi)"
   ]
  }
 ],
 "metadata": {
  "kernelspec": {
   "display_name": "Python 3",
   "language": "python",
   "name": "python3"
  },
  "language_info": {
   "codemirror_mode": {
    "name": "ipython",
    "version": 3
   },
   "file_extension": ".py",
   "mimetype": "text/x-python",
   "name": "python",
   "nbconvert_exporter": "python",
   "pygments_lexer": "ipython3",
   "version": "3.12.1"
  }
 },
 "nbformat": 4,
 "nbformat_minor": 2
}
